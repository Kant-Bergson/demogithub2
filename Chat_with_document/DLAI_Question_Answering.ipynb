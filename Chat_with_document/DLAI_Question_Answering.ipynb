{
 "cells": [
  {
   "cell_type": "code",
   "execution_count": null,
   "id": "dbb312a9",
   "metadata": {},
   "outputs": [],
   "source": []
  },
  {
   "cell_type": "code",
   "execution_count": 26,
   "id": "bf7fb8d7",
   "metadata": {},
   "outputs": [],
   "source": [
    "import os\n",
    "import openai\n",
    "import sys\n",
    "sys.path.append('../..')\n",
    "\n",
    "\n",
    "from secret_key import openai_api_key\n",
    "\n",
    "import os\n",
    "os.environ[\"OPENAI_API_KEY\"] = openai_api_key"
   ]
  },
  {
   "cell_type": "code",
   "execution_count": 27,
   "id": "de57cd7c",
   "metadata": {
    "collapsed": true,
    "jupyter": {
     "outputs_hidden": true
    }
   },
   "outputs": [
    {
     "name": "stdout",
     "output_type": "stream",
     "text": [
      "Requirement already satisfied: chroma-migrate in d:\\aipython\\lib\\site-packages (0.0.7)\n",
      "Requirement already satisfied: clickhouse-connect==0.6.6 in d:\\aipython\\lib\\site-packages (from chroma-migrate) (0.6.6)\n",
      "Requirement already satisfied: duckdb==0.7.1 in d:\\aipython\\lib\\site-packages (from chroma-migrate) (0.7.1)\n",
      "Requirement already satisfied: tqdm in d:\\aipython\\lib\\site-packages (from chroma-migrate) (4.65.0)\n",
      "Requirement already satisfied: chromadb in d:\\aipython\\lib\\site-packages (from chroma-migrate) (0.4.5)\n",
      "Requirement already satisfied: chroma-bullet in d:\\aipython\\lib\\site-packages (from chroma-migrate) (2.2.0)\n",
      "Requirement already satisfied: more-itertools>=9.1.0 in d:\\aipython\\lib\\site-packages (from chroma-migrate) (10.1.0)\n",
      "Requirement already satisfied: certifi in d:\\aipython\\lib\\site-packages (from clickhouse-connect==0.6.6->chroma-migrate) (2022.12.7)\n",
      "Requirement already satisfied: importlib-metadata in d:\\aipython\\lib\\site-packages (from clickhouse-connect==0.6.6->chroma-migrate) (6.8.0)\n",
      "Requirement already satisfied: urllib3>=1.26 in d:\\aipython\\lib\\site-packages (from clickhouse-connect==0.6.6->chroma-migrate) (1.26.15)\n",
      "Requirement already satisfied: pytz in d:\\aipython\\lib\\site-packages (from clickhouse-connect==0.6.6->chroma-migrate) (2023.3)\n",
      "Requirement already satisfied: zstandard in d:\\aipython\\lib\\site-packages (from clickhouse-connect==0.6.6->chroma-migrate) (0.21.0)\n",
      "Requirement already satisfied: lz4 in d:\\aipython\\lib\\site-packages (from clickhouse-connect==0.6.6->chroma-migrate) (4.3.2)\n",
      "Requirement already satisfied: requests>=2.28 in d:\\aipython\\lib\\site-packages (from chromadb->chroma-migrate) (2.28.2)\n",
      "Requirement already satisfied: pydantic<2.0,>=1.9 in d:\\aipython\\lib\\site-packages (from chromadb->chroma-migrate) (1.10.11)\n",
      "Requirement already satisfied: chroma-hnswlib==0.7.2 in d:\\aipython\\lib\\site-packages (from chromadb->chroma-migrate) (0.7.2)\n",
      "Requirement already satisfied: fastapi<0.100.0,>=0.95.2 in d:\\aipython\\lib\\site-packages (from chromadb->chroma-migrate) (0.99.1)\n",
      "Requirement already satisfied: uvicorn[standard]>=0.18.3 in d:\\aipython\\lib\\site-packages (from chromadb->chroma-migrate) (0.23.2)\n",
      "Requirement already satisfied: numpy>=1.21.6 in d:\\aipython\\lib\\site-packages (from chromadb->chroma-migrate) (1.24.2)\n",
      "Requirement already satisfied: posthog>=2.4.0 in d:\\aipython\\lib\\site-packages (from chromadb->chroma-migrate) (3.0.1)\n",
      "Requirement already satisfied: typing-extensions>=4.5.0 in d:\\aipython\\lib\\site-packages (from chromadb->chroma-migrate) (4.6.3)\n",
      "Requirement already satisfied: pulsar-client>=3.1.0 in d:\\aipython\\lib\\site-packages (from chromadb->chroma-migrate) (3.2.0)\n",
      "Requirement already satisfied: onnxruntime>=1.14.1 in d:\\aipython\\lib\\site-packages (from chromadb->chroma-migrate) (1.15.1)\n",
      "Requirement already satisfied: tokenizers>=0.13.2 in d:\\aipython\\lib\\site-packages (from chromadb->chroma-migrate) (0.13.3)\n",
      "Requirement already satisfied: pypika>=0.48.9 in d:\\aipython\\lib\\site-packages (from chromadb->chroma-migrate) (0.48.9)\n",
      "Requirement already satisfied: overrides>=7.3.1 in d:\\aipython\\lib\\site-packages (from chromadb->chroma-migrate) (7.3.1)\n",
      "Requirement already satisfied: importlib-resources in d:\\aipython\\lib\\site-packages (from chromadb->chroma-migrate) (6.0.0)\n",
      "Requirement already satisfied: colorama in d:\\aipython\\lib\\site-packages (from tqdm->chroma-migrate) (0.4.6)\n",
      "Requirement already satisfied: starlette<0.28.0,>=0.27.0 in d:\\aipython\\lib\\site-packages (from fastapi<0.100.0,>=0.95.2->chromadb->chroma-migrate) (0.27.0)\n",
      "Requirement already satisfied: coloredlogs in d:\\aipython\\lib\\site-packages (from onnxruntime>=1.14.1->chromadb->chroma-migrate) (15.0.1)\n",
      "Requirement already satisfied: flatbuffers in d:\\aipython\\lib\\site-packages (from onnxruntime>=1.14.1->chromadb->chroma-migrate) (23.5.26)\n",
      "Requirement already satisfied: packaging in d:\\aipython\\lib\\site-packages (from onnxruntime>=1.14.1->chromadb->chroma-migrate) (23.1)\n",
      "Requirement already satisfied: protobuf in d:\\aipython\\lib\\site-packages (from onnxruntime>=1.14.1->chromadb->chroma-migrate) (4.22.3)\n",
      "Requirement already satisfied: sympy in d:\\aipython\\lib\\site-packages (from onnxruntime>=1.14.1->chromadb->chroma-migrate) (1.12)\n",
      "Requirement already satisfied: six>=1.5 in d:\\aipython\\lib\\site-packages (from posthog>=2.4.0->chromadb->chroma-migrate) (1.16.0)\n",
      "Requirement already satisfied: monotonic>=1.5 in d:\\aipython\\lib\\site-packages (from posthog>=2.4.0->chromadb->chroma-migrate) (1.6)\n",
      "Requirement already satisfied: backoff>=1.10.0 in d:\\aipython\\lib\\site-packages (from posthog>=2.4.0->chromadb->chroma-migrate) (2.2.1)\n",
      "Requirement already satisfied: python-dateutil>2.1 in d:\\aipython\\lib\\site-packages (from posthog>=2.4.0->chromadb->chroma-migrate) (2.8.2)\n",
      "Requirement already satisfied: charset-normalizer<4,>=2 in d:\\aipython\\lib\\site-packages (from requests>=2.28->chromadb->chroma-migrate) (3.1.0)\n",
      "Requirement already satisfied: idna<4,>=2.5 in d:\\aipython\\lib\\site-packages (from requests>=2.28->chromadb->chroma-migrate) (2.10)\n",
      "Requirement already satisfied: click>=7.0 in d:\\aipython\\lib\\site-packages (from uvicorn[standard]>=0.18.3->chromadb->chroma-migrate) (8.1.3)\n",
      "Requirement already satisfied: h11>=0.8 in d:\\aipython\\lib\\site-packages (from uvicorn[standard]>=0.18.3->chromadb->chroma-migrate) (0.9.0)\n",
      "Requirement already satisfied: httptools>=0.5.0 in d:\\aipython\\lib\\site-packages (from uvicorn[standard]>=0.18.3->chromadb->chroma-migrate) (0.6.0)\n",
      "Requirement already satisfied: python-dotenv>=0.13 in d:\\aipython\\lib\\site-packages (from uvicorn[standard]>=0.18.3->chromadb->chroma-migrate) (1.0.0)\n",
      "Requirement already satisfied: pyyaml>=5.1 in d:\\aipython\\lib\\site-packages (from uvicorn[standard]>=0.18.3->chromadb->chroma-migrate) (6.0)\n",
      "Requirement already satisfied: watchfiles>=0.13 in d:\\aipython\\lib\\site-packages (from uvicorn[standard]>=0.18.3->chromadb->chroma-migrate) (0.19.0)\n",
      "Requirement already satisfied: websockets>=10.4 in d:\\aipython\\lib\\site-packages (from uvicorn[standard]>=0.18.3->chromadb->chroma-migrate) (11.0.3)\n",
      "Requirement already satisfied: zipp>=0.5 in d:\\aipython\\lib\\site-packages (from importlib-metadata->clickhouse-connect==0.6.6->chroma-migrate) (3.16.2)\n",
      "Requirement already satisfied: anyio<5,>=3.4.0 in d:\\aipython\\lib\\site-packages (from starlette<0.28.0,>=0.27.0->fastapi<0.100.0,>=0.95.2->chromadb->chroma-migrate) (3.7.0)\n",
      "Requirement already satisfied: humanfriendly>=9.1 in d:\\aipython\\lib\\site-packages (from coloredlogs->onnxruntime>=1.14.1->chromadb->chroma-migrate) (10.0)\n",
      "Requirement already satisfied: mpmath>=0.19 in d:\\aipython\\lib\\site-packages (from sympy->onnxruntime>=1.14.1->chromadb->chroma-migrate) (1.3.0)\n",
      "Requirement already satisfied: sniffio>=1.1 in d:\\aipython\\lib\\site-packages (from anyio<5,>=3.4.0->starlette<0.28.0,>=0.27.0->fastapi<0.100.0,>=0.95.2->chromadb->chroma-migrate) (1.3.0)\n",
      "Requirement already satisfied: exceptiongroup in d:\\aipython\\lib\\site-packages (from anyio<5,>=3.4.0->starlette<0.28.0,>=0.27.0->fastapi<0.100.0,>=0.95.2->chromadb->chroma-migrate) (1.1.1)\n",
      "Requirement already satisfied: pyreadline3 in d:\\aipython\\lib\\site-packages (from humanfriendly>=9.1->coloredlogs->onnxruntime>=1.14.1->chromadb->chroma-migrate) (3.4.1)\n",
      "Note: you may need to restart the kernel to use updated packages.\n"
     ]
    }
   ],
   "source": [
    "pip install chroma-migrate\n"
   ]
  },
  {
   "cell_type": "raw",
   "id": "4e10417d",
   "metadata": {},
   "source": [
    "mã code dưới đây thêm vào để chỉ đinh phiên bản LLM được sử dụng cho đến khi nó không còn được dùng nữa. "
   ]
  },
  {
   "cell_type": "code",
   "execution_count": 29,
   "id": "b4dded81",
   "metadata": {},
   "outputs": [
    {
     "name": "stdout",
     "output_type": "stream",
     "text": [
      "gpt-3.5-turbo-0301\n"
     ]
    }
   ],
   "source": [
    "import datetime\n",
    "current_date = datetime.datetime.now().date()\n",
    "if current_date < datetime.date(2023, 9, 2):\n",
    "    llm_name = \"gpt-3.5-turbo-0301\"\n",
    "else:\n",
    "    llm_name = \"gpt-3.5-turbo\"\n",
    "print(llm_name)"
   ]
  },
  {
   "cell_type": "code",
   "execution_count": 25,
   "id": "e7c5773c",
   "metadata": {
    "collapsed": true,
    "jupyter": {
     "outputs_hidden": true
    }
   },
   "outputs": [
    {
     "ename": "ValueError",
     "evalue": "\u001b[91mYou are using a deprecated configuration of Chroma.\n\n\u001b[94mIf you do not have data you wish to migrate, you only need to change how you construct\nyour Chroma client. Please see the \"New Clients\" section of https://docs.trychroma.com/migration.\n________________________________________________________________________________________________\n\nIf you do have data you wish to migrate, we have a migration tool you can use in order to\nmigrate your data to the new Chroma architecture.\nPlease `pip install chroma-migrate` and run `chroma-migrate` to migrate your data and then\nchange how you construct your Chroma client.\n\nSee https://docs.trychroma.com/migration for more information or join our discord at https://discord.gg/8g5FESbj for help!\u001b[0m",
     "output_type": "error",
     "traceback": [
      "\u001b[1;31m---------------------------------------------------------------------------\u001b[0m",
      "\u001b[1;31mValueError\u001b[0m                                Traceback (most recent call last)",
      "Cell \u001b[1;32mIn[25], line 5\u001b[0m\n\u001b[0;32m      3\u001b[0m persist_directory \u001b[38;5;241m=\u001b[39m \u001b[38;5;124m'\u001b[39m\u001b[38;5;124mdocs/chroma/\u001b[39m\u001b[38;5;124m'\u001b[39m\n\u001b[0;32m      4\u001b[0m embedding \u001b[38;5;241m=\u001b[39m OpenAIEmbeddings()\n\u001b[1;32m----> 5\u001b[0m vectordb \u001b[38;5;241m=\u001b[39m \u001b[43mChroma\u001b[49m\u001b[43m(\u001b[49m\u001b[43mpersist_directory\u001b[49m\u001b[38;5;241;43m=\u001b[39;49m\u001b[43mpersist_directory\u001b[49m\u001b[43m,\u001b[49m\u001b[43m \u001b[49m\u001b[43membedding_function\u001b[49m\u001b[38;5;241;43m=\u001b[39;49m\u001b[43membedding\u001b[49m\u001b[43m)\u001b[49m\n",
      "File \u001b[1;32mD:\\AIpython\\lib\\site-packages\\langchain\\vectorstores\\chroma.py:90\u001b[0m, in \u001b[0;36mChroma.__init__\u001b[1;34m(self, collection_name, embedding_function, persist_directory, client_settings, collection_metadata, client)\u001b[0m\n\u001b[0;32m     85\u001b[0m         \u001b[38;5;28;01mif\u001b[39;00m persist_directory \u001b[38;5;129;01mis\u001b[39;00m \u001b[38;5;129;01mnot\u001b[39;00m \u001b[38;5;28;01mNone\u001b[39;00m:\n\u001b[0;32m     86\u001b[0m             \u001b[38;5;28mself\u001b[39m\u001b[38;5;241m.\u001b[39m_client_settings \u001b[38;5;241m=\u001b[39m chromadb\u001b[38;5;241m.\u001b[39mconfig\u001b[38;5;241m.\u001b[39mSettings(\n\u001b[0;32m     87\u001b[0m                 chroma_db_impl\u001b[38;5;241m=\u001b[39m\u001b[38;5;124m\"\u001b[39m\u001b[38;5;124mduckdb+parquet\u001b[39m\u001b[38;5;124m\"\u001b[39m,\n\u001b[0;32m     88\u001b[0m                 persist_directory\u001b[38;5;241m=\u001b[39mpersist_directory,\n\u001b[0;32m     89\u001b[0m             )\n\u001b[1;32m---> 90\u001b[0m     \u001b[38;5;28mself\u001b[39m\u001b[38;5;241m.\u001b[39m_client \u001b[38;5;241m=\u001b[39m \u001b[43mchromadb\u001b[49m\u001b[38;5;241;43m.\u001b[39;49m\u001b[43mClient\u001b[49m\u001b[43m(\u001b[49m\u001b[38;5;28;43mself\u001b[39;49m\u001b[38;5;241;43m.\u001b[39;49m\u001b[43m_client_settings\u001b[49m\u001b[43m)\u001b[49m\n\u001b[0;32m     92\u001b[0m \u001b[38;5;28mself\u001b[39m\u001b[38;5;241m.\u001b[39m_embedding_function \u001b[38;5;241m=\u001b[39m embedding_function\n\u001b[0;32m     93\u001b[0m \u001b[38;5;28mself\u001b[39m\u001b[38;5;241m.\u001b[39m_persist_directory \u001b[38;5;241m=\u001b[39m (\n\u001b[0;32m     94\u001b[0m     \u001b[38;5;28mself\u001b[39m\u001b[38;5;241m.\u001b[39m_client_settings\u001b[38;5;241m.\u001b[39mpersist_directory \u001b[38;5;129;01mor\u001b[39;00m persist_directory\n\u001b[0;32m     95\u001b[0m )\n",
      "File \u001b[1;32mD:\\AIpython\\lib\\site-packages\\chromadb\\__init__.py:107\u001b[0m, in \u001b[0;36mClient\u001b[1;34m(settings)\u001b[0m\n\u001b[0;32m    104\u001b[0m \u001b[38;5;28;01mdef\u001b[39;00m \u001b[38;5;21mClient\u001b[39m(settings: Settings \u001b[38;5;241m=\u001b[39m __settings) \u001b[38;5;241m-\u001b[39m\u001b[38;5;241m>\u001b[39m API:\n\u001b[0;32m    105\u001b[0m \u001b[38;5;250m    \u001b[39m\u001b[38;5;124;03m\"\"\"Return a running chroma.API instance\"\"\"\u001b[39;00m\n\u001b[1;32m--> 107\u001b[0m     system \u001b[38;5;241m=\u001b[39m \u001b[43mSystem\u001b[49m\u001b[43m(\u001b[49m\u001b[43msettings\u001b[49m\u001b[43m)\u001b[49m\n\u001b[0;32m    109\u001b[0m     telemetry_client \u001b[38;5;241m=\u001b[39m system\u001b[38;5;241m.\u001b[39minstance(Telemetry)\n\u001b[0;32m    110\u001b[0m     api \u001b[38;5;241m=\u001b[39m system\u001b[38;5;241m.\u001b[39minstance(API)\n",
      "File \u001b[1;32mD:\\AIpython\\lib\\site-packages\\chromadb\\config.py:175\u001b[0m, in \u001b[0;36mSystem.__init__\u001b[1;34m(self, settings)\u001b[0m\n\u001b[0;32m    173\u001b[0m \u001b[38;5;66;03m# Validate settings don't contain any legacy config values\u001b[39;00m\n\u001b[0;32m    174\u001b[0m \u001b[38;5;28;01mfor\u001b[39;00m key \u001b[38;5;129;01min\u001b[39;00m _legacy_config_keys:\n\u001b[1;32m--> 175\u001b[0m     \u001b[38;5;28;01mif\u001b[39;00m \u001b[43msettings\u001b[49m\u001b[43m[\u001b[49m\u001b[43mkey\u001b[49m\u001b[43m]\u001b[49m \u001b[38;5;129;01mis\u001b[39;00m \u001b[38;5;129;01mnot\u001b[39;00m \u001b[38;5;28;01mNone\u001b[39;00m:\n\u001b[0;32m    176\u001b[0m         \u001b[38;5;28;01mraise\u001b[39;00m \u001b[38;5;167;01mValueError\u001b[39;00m(LEGACY_ERROR)\n\u001b[0;32m    178\u001b[0m \u001b[38;5;28mself\u001b[39m\u001b[38;5;241m.\u001b[39msettings \u001b[38;5;241m=\u001b[39m settings\n",
      "File \u001b[1;32mD:\\AIpython\\lib\\site-packages\\chromadb\\config.py:110\u001b[0m, in \u001b[0;36mSettings.__getitem__\u001b[1;34m(self, key)\u001b[0m\n\u001b[0;32m    108\u001b[0m \u001b[38;5;66;03m# Error on legacy config values\u001b[39;00m\n\u001b[0;32m    109\u001b[0m \u001b[38;5;28;01mif\u001b[39;00m val \u001b[38;5;129;01min\u001b[39;00m _legacy_config_values:\n\u001b[1;32m--> 110\u001b[0m     \u001b[38;5;28;01mraise\u001b[39;00m \u001b[38;5;167;01mValueError\u001b[39;00m(LEGACY_ERROR)\n\u001b[0;32m    111\u001b[0m \u001b[38;5;28;01mreturn\u001b[39;00m val\n",
      "\u001b[1;31mValueError\u001b[0m: \u001b[91mYou are using a deprecated configuration of Chroma.\n\n\u001b[94mIf you do not have data you wish to migrate, you only need to change how you construct\nyour Chroma client. Please see the \"New Clients\" section of https://docs.trychroma.com/migration.\n________________________________________________________________________________________________\n\nIf you do have data you wish to migrate, we have a migration tool you can use in order to\nmigrate your data to the new Chroma architecture.\nPlease `pip install chroma-migrate` and run `chroma-migrate` to migrate your data and then\nchange how you construct your Chroma client.\n\nSee https://docs.trychroma.com/migration for more information or join our discord at https://discord.gg/8g5FESbj for help!\u001b[0m"
     ]
    }
   ],
   "source": [
    "from langchain.vectorstores import chroma\n",
    "from langchain.embeddings.openai import OpenAIEmbeddings\n",
    "persist_directory = 'docs/chroma/'\n",
    "embedding = OpenAIEmbeddings()\n",
    "vectordb = Chroma(persist_directory=persist_directory, embedding_function=embedding)"
   ]
  },
  {
   "cell_type": "code",
   "execution_count": 31,
   "id": "58a4e3aa",
   "metadata": {
    "collapsed": true,
    "jupyter": {
     "outputs_hidden": true
    }
   },
   "outputs": [
    {
     "ename": "NameError",
     "evalue": "name 'vectordb' is not defined",
     "output_type": "error",
     "traceback": [
      "\u001b[1;31m---------------------------------------------------------------------------\u001b[0m",
      "\u001b[1;31mNameError\u001b[0m                                 Traceback (most recent call last)",
      "Cell \u001b[1;32mIn[31], line 1\u001b[0m\n\u001b[1;32m----> 1\u001b[0m \u001b[38;5;28mprint\u001b[39m(\u001b[43mvectordb\u001b[49m\u001b[38;5;241m.\u001b[39m_collection\u001b[38;5;241m.\u001b[39mcount())\n",
      "\u001b[1;31mNameError\u001b[0m: name 'vectordb' is not defined"
     ]
    }
   ],
   "source": [
    "print(vectordb._collection.count())"
   ]
  },
  {
   "cell_type": "code",
   "execution_count": null,
   "id": "ded435ef",
   "metadata": {},
   "outputs": [],
   "source": [
    "question = \"What are major topics for this class?\"\n",
    "docs = vectordb.similarity_search(question,k=3)\n",
    "len(docs)"
   ]
  },
  {
   "cell_type": "code",
   "execution_count": 8,
   "id": "047c80c2",
   "metadata": {},
   "outputs": [],
   "source": [
    "from langchain.chat_models import ChatOpenAI\n",
    "llm = ChatOpenAI(model_name=llm_name, temperature=0)"
   ]
  },
  {
   "cell_type": "markdown",
   "id": "d3d44a81",
   "metadata": {},
   "source": [
    "# RetrievalQA chain"
   ]
  },
  {
   "cell_type": "code",
   "execution_count": 6,
   "id": "74feb2c9",
   "metadata": {},
   "outputs": [],
   "source": [
    "from langchain.chains import RetrievalQA"
   ]
  },
  {
   "cell_type": "code",
   "execution_count": null,
   "id": "a0a0ae84",
   "metadata": {},
   "outputs": [],
   "source": [
    "qa_chain = RetrievalQA.from_chain_type(\n",
    "    llm,\n",
    "    retriever=vectordb.as_retriever()\n",
    ")"
   ]
  },
  {
   "cell_type": "code",
   "execution_count": null,
   "id": "45d97916",
   "metadata": {},
   "outputs": [],
   "source": [
    "result = qa_chain({\"query\": question})"
   ]
  },
  {
   "cell_type": "code",
   "execution_count": null,
   "id": "2644fc6a",
   "metadata": {},
   "outputs": [],
   "source": [
    "result[\"result\"]"
   ]
  },
  {
   "cell_type": "markdown",
   "id": "8a626cec",
   "metadata": {},
   "source": [
    "# Prompt "
   ]
  },
  {
   "cell_type": "code",
   "execution_count": null,
   "id": "41deb02b",
   "metadata": {},
   "outputs": [],
   "source": [
    "from langchain.prompts import PromptTemplate\n",
    "\n",
    "# Build prompt\n",
    "template = \"\"\"Use the following pieces of context to answer the question at the end. If you don't know the answer, just say that you don't know, don't try to make up an answer. Use three sentences maximum. Keep the answer as concise as possible. Always say \"thanks for asking!\" at the end of the answer. \n",
    "{context}\n",
    "Question: {question}\n",
    "Helpful Answer:\"\"\"\n",
    "QA_CHAIN_PROMPT = PromptTemplate.from_template(template)\n"
   ]
  },
  {
   "cell_type": "code",
   "execution_count": null,
   "id": "b06dc775",
   "metadata": {},
   "outputs": [],
   "source": [
    "# Run chain\n",
    "qa_chain = RetrievalQA.from_chain_type(\n",
    "    llm,\n",
    "    retriever=vectordb.as_retriever(),\n",
    "    return_source_documents=True,\n",
    "    chain_type_kwargs={\"prompt\": QA_CHAIN_PROMPT}\n",
    ")"
   ]
  },
  {
   "cell_type": "code",
   "execution_count": null,
   "id": "6addbfa4",
   "metadata": {},
   "outputs": [],
   "source": [
    "question = \"Is probability a class topic?\""
   ]
  },
  {
   "cell_type": "code",
   "execution_count": null,
   "id": "31ac40e4",
   "metadata": {},
   "outputs": [],
   "source": [
    "result = qa_chain({\"query\": question})"
   ]
  },
  {
   "cell_type": "code",
   "execution_count": null,
   "id": "61183c82",
   "metadata": {},
   "outputs": [],
   "source": [
    "result[\"result\"]"
   ]
  },
  {
   "cell_type": "code",
   "execution_count": null,
   "id": "39263ff8",
   "metadata": {},
   "outputs": [],
   "source": [
    "result[\"source_documents\"][0]"
   ]
  },
  {
   "cell_type": "markdown",
   "id": "3dc0ee08",
   "metadata": {},
   "source": [
    "# RetrievalQA chain types"
   ]
  },
  {
   "cell_type": "code",
   "execution_count": null,
   "id": "d4d1519d",
   "metadata": {},
   "outputs": [],
   "source": [
    "qa_chain_mr = RetrievalQA.from_chain_type(\n",
    "    llm,\n",
    "    retriever=vectordb.as_retriever(),\n",
    "    chain_type=\"map_reduce\"\n",
    ")"
   ]
  },
  {
   "cell_type": "code",
   "execution_count": null,
   "id": "e732e710",
   "metadata": {},
   "outputs": [],
   "source": [
    "result = qa_chain_mr({\"query\": question})"
   ]
  },
  {
   "cell_type": "code",
   "execution_count": null,
   "id": "57e96c4b",
   "metadata": {},
   "outputs": [],
   "source": [
    "result[\"result\"]"
   ]
  },
  {
   "cell_type": "code",
   "execution_count": null,
   "id": "7575dd39",
   "metadata": {},
   "outputs": [],
   "source": []
  },
  {
   "cell_type": "markdown",
   "id": "0c71d63d",
   "metadata": {},
   "source": [
    "# RetrievalQA limitations\n",
    "QA fails to preserve conversational history."
   ]
  },
  {
   "cell_type": "code",
   "execution_count": 9,
   "id": "5454e059",
   "metadata": {
    "collapsed": true,
    "jupyter": {
     "outputs_hidden": true
    }
   },
   "outputs": [
    {
     "ename": "NameError",
     "evalue": "name 'vectordb' is not defined",
     "output_type": "error",
     "traceback": [
      "\u001b[1;31m---------------------------------------------------------------------------\u001b[0m",
      "\u001b[1;31mNameError\u001b[0m                                 Traceback (most recent call last)",
      "Cell \u001b[1;32mIn[9], line 3\u001b[0m\n\u001b[0;32m      1\u001b[0m qa_chain \u001b[38;5;241m=\u001b[39m RetrievalQA\u001b[38;5;241m.\u001b[39mfrom_chain_type(\n\u001b[0;32m      2\u001b[0m     llm,\n\u001b[1;32m----> 3\u001b[0m     retriever\u001b[38;5;241m=\u001b[39m\u001b[43mvectordb\u001b[49m\u001b[38;5;241m.\u001b[39mas_retriever()\n\u001b[0;32m      4\u001b[0m )\n",
      "\u001b[1;31mNameError\u001b[0m: name 'vectordb' is not defined"
     ]
    }
   ],
   "source": [
    "qa_chain = RetrievalQA.from_chain_type(\n",
    "    llm,\n",
    "    retriever=vectordb.as_retriever()\n",
    ")"
   ]
  },
  {
   "cell_type": "code",
   "execution_count": null,
   "id": "5daa4e88",
   "metadata": {},
   "outputs": [],
   "source": [
    "question = \"Is probability a class topic?\"\n",
    "result = qa_chain({\"query\": question})\n",
    "result[\"result\"]"
   ]
  },
  {
   "cell_type": "code",
   "execution_count": null,
   "id": "cb4df86d",
   "metadata": {},
   "outputs": [],
   "source": [
    "question = \"why are those prerequesites needed?\"\n",
    "result = qa_chain({\"query\": question})\n",
    "result[\"result\"]"
   ]
  },
  {
   "cell_type": "code",
   "execution_count": null,
   "id": "de902172",
   "metadata": {},
   "outputs": [],
   "source": []
  },
  {
   "cell_type": "code",
   "execution_count": null,
   "id": "4ac4d601",
   "metadata": {},
   "outputs": [],
   "source": []
  },
  {
   "cell_type": "code",
   "execution_count": null,
   "id": "938a4824",
   "metadata": {},
   "outputs": [],
   "source": []
  },
  {
   "cell_type": "code",
   "execution_count": null,
   "id": "60724f24",
   "metadata": {},
   "outputs": [],
   "source": []
  },
  {
   "cell_type": "code",
   "execution_count": null,
   "id": "fe940e21",
   "metadata": {},
   "outputs": [],
   "source": []
  }
 ],
 "metadata": {
  "kernelspec": {
   "display_name": "Python 3 (ipykernel)",
   "language": "python",
   "name": "python3"
  },
  "language_info": {
   "codemirror_mode": {
    "name": "ipython",
    "version": 3
   },
   "file_extension": ".py",
   "mimetype": "text/x-python",
   "name": "python",
   "nbconvert_exporter": "python",
   "pygments_lexer": "ipython3",
   "version": "3.11.4"
  }
 },
 "nbformat": 4,
 "nbformat_minor": 5
}
