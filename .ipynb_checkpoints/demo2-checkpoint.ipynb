{
 "cells": [
  {
   "cell_type": "code",
   "execution_count": null,
   "id": "ca209e97",
   "metadata": {},
   "outputs": [],
   "source": [
    "import pandas as pd\n",
    "import os \n",
    "import numpy as np\n",
    "import matplotlib.pyplot as plt\n",
    "filename = input(\" Please key in the filename: \")\n",
    "df = pd.read_csv(filename)\n",
    "df"
   ]
  },
  {
   "cell_type": "code",
   "execution_count": null,
   "id": "9542fe32",
   "metadata": {},
   "outputs": [],
   "source": [
    "#1 tải 12 file tháng dự liệu lên chương trình để gộp thành một file lớn "
   ]
  },
  {
   "cell_type": "code",
   "execution_count": null,
   "id": "6475b5c3",
   "metadata": {
    "scrolled": true
   },
   "outputs": [],
   "source": [
    "demoPYDA = 'sales2019_1.csv'\n",
    "\n",
    "df = pd.read_csv(demoPYDA)\n",
    "df"
   ]
  },
  {
   "cell_type": "code",
   "execution_count": null,
   "id": "fdc71036",
   "metadata": {
    "scrolled": true
   },
   "outputs": [],
   "source": [
    "df['Month'] = df['Order Date'].str[0:2]\n",
    "df.head()"
   ]
  },
  {
   "cell_type": "code",
   "execution_count": null,
   "id": "b56cf211",
   "metadata": {},
   "outputs": [],
   "source": [
    "df['Order Date'].str[0:2]"
   ]
  },
  {
   "cell_type": "code",
   "execution_count": null,
   "id": "14b6ceae",
   "metadata": {},
   "outputs": [],
   "source": [
    "print(set(df['Month']))"
   ]
  },
  {
   "cell_type": "code",
   "execution_count": null,
   "id": "0dfffd8c",
   "metadata": {},
   "outputs": [],
   "source": [
    "df = df.dropna()\n",
    "df.head()"
   ]
  },
  {
   "cell_type": "code",
   "execution_count": null,
   "id": "34e9b274",
   "metadata": {},
   "outputs": [],
   "source": [
    "df = df[df['Month'] !='Or']\n",
    "df.head()"
   ]
  },
  {
   "cell_type": "code",
   "execution_count": null,
   "id": "d2b6c643",
   "metadata": {},
   "outputs": [],
   "source": [
    "# câu hỏi 1 : tháng nào có doanh số tốt nhất \n",
    "# tạo thêm một cột Sale \n",
    "df[\"Sale\"] = ''\n",
    "df"
   ]
  },
  {
   "cell_type": "code",
   "execution_count": null,
   "id": "2a453436",
   "metadata": {},
   "outputs": [],
   "source": [
    "# kiểm tra type của cột giá và cột số lượng thấy rằng Object không có thể nhân\n",
    "# nhân được với nhau nên cần chuyển thành type int và float \n",
    "print(df['Quantity Ordered'].dtypes)\n",
    "print(df['Price Each'].dtypes)"
   ]
  },
  {
   "cell_type": "code",
   "execution_count": null,
   "id": "9d23d617",
   "metadata": {
    "scrolled": true
   },
   "outputs": [],
   "source": [
    "df['object_column'] = df['int_column'].astype(str).astype(int)\n",
    "df['object_column'] = df['int_column'].astype(str).astype(int)"
   ]
  },
  {
   "cell_type": "code",
   "execution_count": null,
   "id": "61ebfad5",
   "metadata": {},
   "outputs": [],
   "source": [
    "# Convert the 'Column1' from object to numeric\n",
    "df['Quantity Ordered'] = pd.to_numeric(df['Quantity Ordered'])\n",
    "df['Price Each'] = pd.to_numeric(df['Price Each'])\n",
    "# Check the data types of the DataFrame\n",
    "print(df.dtypes)"
   ]
  },
  {
   "cell_type": "code",
   "execution_count": null,
   "id": "7dc8f29d",
   "metadata": {},
   "outputs": [],
   "source": [
    "# nhân giá bán với số lượng bán lại với nhau \n",
    "df['Sale'] = df['Quantity Ordered'] * df['Price Each']\n",
    "df.head(10)"
   ]
  },
  {
   "cell_type": "code",
   "execution_count": null,
   "id": "7819d685",
   "metadata": {},
   "outputs": [],
   "source": [
    "# di chuyển cột sale sang gần vị trí của Price Each \n",
    "moving_column = df.pop('Sale')\n",
    "df.insert(4, 'Sale', moving_column) # 4 là số thứ tự được tính từ  Order ID\n",
    "df.head()\n"
   ]
  },
  {
   "cell_type": "code",
   "execution_count": null,
   "id": "2f863466",
   "metadata": {},
   "outputs": [],
   "source": [
    "# lọc giá trị theo từng tháng bằng hàm Groupby \n",
    "df.groupby('Month').sum()['Sale']"
   ]
  },
  {
   "cell_type": "code",
   "execution_count": null,
   "id": "dd49b4a0",
   "metadata": {},
   "outputs": [],
   "source": [
    "# gán giá trị vào Sale_value \n",
    "sale_value = df.groupby('Month').sum()['Sale']\n",
    "sale_value.max()\n"
   ]
  },
  {
   "cell_type": "code",
   "execution_count": null,
   "id": "bf219592",
   "metadata": {},
   "outputs": [],
   "source": [
    "# Câu 1 : Biểu đồ thể hiện tháng có doanh thu cao nhất \n",
    "\n",
    "months = range(1,13)\n",
    "plt.bar(x=months, height=sale_value)\n",
    "plt.xticks(months)\n",
    "plt.xlabel('Months')\n",
    "plt.ylabel('Sale in USD')\n",
    "plt.show()"
   ]
  },
  {
   "cell_type": "code",
   "execution_count": null,
   "id": "2940b42b",
   "metadata": {},
   "outputs": [],
   "source": [
    "# Câu 2: Thành phố nào có doanh thu cao nhất \n",
    "# cần tách City ra khỏi hàng Purchase Address thành hàng riêng \n",
    "df['City'] = df['Purchase Address'].apply(lambda x: x.split(\",\")[1].strip())\n",
    "df.head()"
   ]
  },
  {
   "cell_type": "code",
   "execution_count": null,
   "id": "6e986821",
   "metadata": {
    "scrolled": true
   },
   "outputs": [],
   "source": [
    "moving_City = df.pop('City')\n",
    "df.insert(7, 'City', moving_City) # 6 là số thứ tự được tính từ  Order ID\n",
    "df.head(10)"
   ]
  },
  {
   "cell_type": "code",
   "execution_count": null,
   "id": "e1233983",
   "metadata": {
    "scrolled": true
   },
   "outputs": [],
   "source": [
    "sale_city = df.groupby('City').sum()['Sale']\n",
    "sale_city.max()"
   ]
  },
  {
   "cell_type": "code",
   "execution_count": null,
   "id": "a8ca88d5",
   "metadata": {},
   "outputs": [],
   "source": [
    "print(City)\n",
    "print(sale_city)"
   ]
  },
  {
   "cell_type": "code",
   "execution_count": null,
   "id": "999c7bff",
   "metadata": {},
   "outputs": [],
   "source": [
    "City = [City for City, Sale in sale_city.items()]\n",
    "print(City)"
   ]
  },
  {
   "cell_type": "code",
   "execution_count": null,
   "id": "cd836efc",
   "metadata": {
    "scrolled": true
   },
   "outputs": [],
   "source": [
    "City = df['City'].unique()\n",
    "plt.bar(x=City, height=sale_city)\n",
    "plt.xticks(City, rotation=45)\n",
    "plt.xlabel('City')\n",
    "plt.ylabel('Sale in USD')\n",
    "plt.show()"
   ]
  },
  {
   "cell_type": "code",
   "execution_count": null,
   "id": "eb56ff21",
   "metadata": {},
   "outputs": [],
   "source": [
    "# thời gian nào nên được chiếu quảng cáo để có thể tăng khả năng mua hàng của khách hàng \n",
    "\n"
   ]
  },
  {
   "cell_type": "code",
   "execution_count": null,
   "id": "9db856b5",
   "metadata": {},
   "outputs": [],
   "source": [
    "print(df['Order Date'].dtypes)"
   ]
  },
  {
   "cell_type": "code",
   "execution_count": null,
   "id": "4a13781b",
   "metadata": {},
   "outputs": [],
   "source": [
    "#Step 1 : chuyển kiểu dữ liệu\n",
    "df['Order Date']= pd.to_datetime(df['Order Date'])"
   ]
  },
  {
   "cell_type": "code",
   "execution_count": null,
   "id": "eb9dc59b",
   "metadata": {},
   "outputs": [],
   "source": [
    "df['Order Date'].dt.hour"
   ]
  },
  {
   "cell_type": "code",
   "execution_count": null,
   "id": "9405a7b6",
   "metadata": {
    "scrolled": true
   },
   "outputs": [],
   "source": [
    "# tách và tạo côt Hour mới cho df \n",
    "df[\"Hours\"] = df['Order Date'].dt.hour\n",
    "df"
   ]
  },
  {
   "cell_type": "code",
   "execution_count": null,
   "id": "ab9dfc98",
   "metadata": {
    "scrolled": true
   },
   "outputs": [],
   "source": [
    "sale_hour = df.groupby('Hour').sum()['Sale']\n",
    "hours = [hour for hour, sale in sale_hour.items()]\n",
    "plt.plot(hours, sale_hour)\n",
    "plt.xticks(hours, rotation=90)\n",
    "plt.xlabel('Hour')\n",
    "plt.ylabel('Sale in USD')\n",
    "plt.show()"
   ]
  },
  {
   "cell_type": "code",
   "execution_count": null,
   "id": "02985713",
   "metadata": {},
   "outputs": [],
   "source": [
    "\n",
    "hours = sale_hour.index\n",
    "sale_values = sale_hour.values\n",
    "sale_hour = df.groupby('Hour')['Sale'].count() # nhóm cac giá trị theo từng khung giờ \n",
    "\n",
    "plt.plot(hours, sale_values) # biểu đồ dàng đường\n",
    "plt.xlabel('Hour')\n",
    "plt.ylabel('Sale in USD')\n",
    "plt.grid() # thêm dang lưới cho biểu đồ\n",
    "plt.xticks(hours, rotation= 90 )  # Set x-axis ticks to the hour values\n",
    "plt.show()\n"
   ]
  },
  {
   "cell_type": "code",
   "execution_count": null,
   "id": "1b3d0d0e",
   "metadata": {},
   "outputs": [],
   "source": [
    "# câu hỏi 3: nhưng sản phẩm nào thường được bán cùng nhau. \n"
   ]
  },
  {
   "cell_type": "code",
   "execution_count": null,
   "id": "5ac28423",
   "metadata": {},
   "outputs": [],
   "source": [
    "df.head()"
   ]
  },
  {
   "cell_type": "code",
   "execution_count": null,
   "id": "01f37915",
   "metadata": {},
   "outputs": [],
   "source": [
    "df_dup = df[df['Order ID'].duplicated(keep=False)]\n",
    "df_dup.head()"
   ]
  },
  {
   "cell_type": "code",
   "execution_count": null,
   "id": "e4e003bd",
   "metadata": {},
   "outputs": [],
   "source": [
    "# nhóm các đơn hàng thành một hàng \n",
    "groupProduct = lambda product: ', '.join(product)\n",
    "df_dup['All Products']=  df_dup.groupby('Order ID')['Product'].transform(groupProduct)\n",
    "df_dup"
   ]
  },
  {
   "cell_type": "code",
   "execution_count": null,
   "id": "4d904041",
   "metadata": {},
   "outputs": [],
   "source": [
    "# bỏ những dong duplicate trong dataframe\n",
    "df_dup[['Order ID', 'All Products']].drop_duplicates()\n",
    "df_dup.head()"
   ]
  },
  {
   "cell_type": "code",
   "execution_count": null,
   "id": "473073a0",
   "metadata": {},
   "outputs": [],
   "source": [
    "# dùng value_count() để có thể trả về các giá trị thường mua cùng nhau nhất \n",
    "df_dup['All Products'].value_counts().head(10)\n",
    "                                        "
   ]
  },
  {
   "cell_type": "code",
   "execution_count": null,
   "id": "d26a6e61",
   "metadata": {},
   "outputs": [],
   "source": [
    "# câu 5: Sản phẩm nào được bán nhiều nhất\n",
    "most_sold_product = df['Product'].value_counts().idxmax() # sử dụng hàm value_count() để có thể tính được số lần xuất hiện của sản phẩm trong cột Products\n",
    "product_quantity = df.groupby('Product')['Quantity Ordered'].sum()\n",
    "\n",
    "products_ls = [product for product, quant in product_quantity.items()]\n",
    "plt.bar(x=products_ls, height=product_quantity)\n",
    "plt.xticks(products_ls,  rotation= 90)\n",
    "plt.xlabel('Products of Quanlity')\n",
    "plt.ylabel('Units')\n",
    "plt.grid() # thêm dang lưới cho biểu đồ\n",
    "plt.show()\n",
    "print(\"Most choice sold product:\", most_sold_product)"
   ]
  },
  {
   "cell_type": "code",
   "execution_count": null,
   "id": "f12e524d",
   "metadata": {
    "scrolled": true
   },
   "outputs": [],
   "source": [
    "# tìm kiếm nguyên nhân vì sao có thể bán nhiều đến thế\n",
    "# Price \n",
    "product_average_price = df.groupby('Product')['Price Each'].mean()\n",
    "product_average_price "
   ]
  },
  {
   "cell_type": "code",
   "execution_count": null,
   "id": "816b3e69",
   "metadata": {},
   "outputs": [],
   "source": [
    "product_revenue = df.groupby('Product')['Sale'].sum()\n",
    "product_highest_revenue = product_revenue.idxmax()\n",
    "highest_revenue = product_revenue.max()\n",
    "\n",
    "print(\"Product with highest revenue:\", product_highest_revenue)\n",
    "print(\"Total revenue:\", highest_revenue)"
   ]
  },
  {
   "cell_type": "code",
   "execution_count": null,
   "id": "22bbf9f3",
   "metadata": {},
   "outputs": [],
   "source": [
    "print(df['Quantity Ordered'].dtypes)\n"
   ]
  },
  {
   "cell_type": "code",
   "execution_count": null,
   "id": "ff5942ce",
   "metadata": {},
   "outputs": [],
   "source": [
    "df['Quantity Ordered'] = df['Quantity Ordered'].astype(int)"
   ]
  },
  {
   "cell_type": "code",
   "execution_count": null,
   "id": "edf77590",
   "metadata": {},
   "outputs": [],
   "source": [
    "x = products_ls\n",
    "y1 = product_quantity\n",
    "y2 = product_average_price\n",
    "\n",
    "fig, ax1 = plt.subplots()\n",
    "\n",
    "ax2 = ax1.twinx()\n",
    "ax1.bar(x, y1, color='g')\n",
    "ax2.plot(x, y2, 'b-')\n",
    "\n",
    "ax1.set_xticklabels(products_ls,rotation= 90 )\n",
    "ax1.set_xlabel('Products')\n",
    "ax1.set_ylabel('Quanlity', color='g')\n",
    "ax2.set_ylabel('Prices', color='b')\n",
    "\n",
    "plt.show()"
   ]
  },
  {
   "cell_type": "code",
   "execution_count": null,
   "id": "37f68bec",
   "metadata": {},
   "outputs": [],
   "source": []
  },
  {
   "cell_type": "code",
   "execution_count": null,
   "id": "083fcfd2",
   "metadata": {},
   "outputs": [],
   "source": []
  },
  {
   "cell_type": "code",
   "execution_count": null,
   "id": "92cbd6bb",
   "metadata": {},
   "outputs": [],
   "source": []
  },
  {
   "cell_type": "code",
   "execution_count": null,
   "id": "0cb2a0e8",
   "metadata": {},
   "outputs": [],
   "source": []
  },
  {
   "cell_type": "code",
   "execution_count": null,
   "id": "78d90b45",
   "metadata": {},
   "outputs": [],
   "source": []
  }
 ],
 "metadata": {
  "kernelspec": {
   "display_name": "Python 3 (ipykernel)",
   "language": "python",
   "name": "python3"
  },
  "language_info": {
   "codemirror_mode": {
    "name": "ipython",
    "version": 3
   },
   "file_extension": ".py",
   "mimetype": "text/x-python",
   "name": "python",
   "nbconvert_exporter": "python",
   "pygments_lexer": "ipython3",
   "version": "3.10.11"
  }
 },
 "nbformat": 4,
 "nbformat_minor": 5
}
